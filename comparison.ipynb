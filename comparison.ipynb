{
 "cells": [
  {
   "cell_type": "code",
   "execution_count": 1,
   "id": "7d09648a",
   "metadata": {},
   "outputs": [],
   "source": [
    "import numpy as np\n",
    "import matplotlib.pyplot as plt\n",
    "from scipy.linalg import svd\n",
    "from sklearn.preprocessing import StandardScaler\n",
    "from numpy.linalg import svd"
   ]
  },
  {
   "cell_type": "code",
   "execution_count": 2,
   "id": "60033f70",
   "metadata": {},
   "outputs": [],
   "source": [
    "# number of scheduling variables\n",
    "n = 1"
   ]
  },
  {
   "cell_type": "code",
   "execution_count": 3,
   "id": "4f3c130f",
   "metadata": {},
   "outputs": [],
   "source": [
    "X = np.load('Xdata.npy')\n",
    "x1 = X[:,0]\n",
    "x2 = X[:,1]\n",
    "x3 = X[:,2]\n",
    "x4 = X[:,3]"
   ]
  },
  {
   "cell_type": "code",
   "execution_count": 4,
   "id": "8ca2d980",
   "metadata": {},
   "outputs": [],
   "source": [
    "T = 0.05\n",
    "g = 9.8\n",
    "m = 0.22\n",
    "M = 1.3282\n",
    "f0 = 22.915\n",
    "f1 = 0.007056\n",
    "l = 0.304\n",
    "J = 0.004963"
   ]
  },
  {
   "cell_type": "code",
   "execution_count": 5,
   "id": "024c4ad5",
   "metadata": {},
   "outputs": [],
   "source": [
    "r1 = 1 / ((M + m)*(J + m * l * l) - (m ** 2) * ( l ** 2) * ( np.cos(x1) ** 2))\n",
    "r2 = np.sin(x1) / (x1 * ((M + m)*(J + m * l * l) - (m ** 2) * ( l ** 2) * ( np.cos(x1) ** 2)))\n",
    "r3 = np.cos(x1) / ((M + m)*(J + m * l * l) - (m ** 2) * ( l ** 2) * ( np.cos(x1) ** 2))\n",
    "r4 = np.sin(x1) * np.cos(x1) / (x1 * ((M + m)*(J + m * l * l) - (m ** 2) * ( l ** 2) * ( np.cos(x1) ** 2)))\n",
    "r5 = x2 ** 2"
   ]
  },
  {
   "cell_type": "code",
   "execution_count": 6,
   "id": "470531a0",
   "metadata": {},
   "outputs": [],
   "source": [
    "Data = np.array([r1, r2, r3, r4, r5])"
   ]
  },
  {
   "cell_type": "code",
   "execution_count": 7,
   "id": "ebdf3f4a",
   "metadata": {},
   "outputs": [],
   "source": [
    "scaler = StandardScaler()\n",
    "Dat_sca = scaler.fit_transform(Data.T)\n",
    "Dat_sca = Dat_sca.T"
   ]
  },
  {
   "cell_type": "code",
   "execution_count": 8,
   "id": "74ee4af4",
   "metadata": {},
   "outputs": [],
   "source": [
    "U, S, VH = svd(Dat_sca, full_matrices=False)"
   ]
  },
  {
   "cell_type": "code",
   "execution_count": 9,
   "id": "06627364",
   "metadata": {},
   "outputs": [
    {
     "data": {
      "text/plain": [
       "array([2.87865632e+03, 1.26953332e+03, 4.02852262e+01, 2.20933804e-01,\n",
       "       8.89070108e-04])"
      ]
     },
     "execution_count": 9,
     "metadata": {},
     "output_type": "execute_result"
    }
   ],
   "source": [
    "S"
   ]
  },
  {
   "cell_type": "markdown",
   "id": "102a069a",
   "metadata": {},
   "source": [
    "## Apply the method on a special trajectory"
   ]
  },
  {
   "cell_type": "code",
   "execution_count": 10,
   "id": "82c3bab7",
   "metadata": {},
   "outputs": [],
   "source": [
    "Xfig = np.load('Xfig.npy')\n",
    "Ufig = np.load('Ufig.npy')\n",
    "\n",
    "x1_t = Xfig[:,0]\n",
    "x2_t = Xfig[:,1]\n",
    "x3_t = Xfig[:,2]\n",
    "x4_t = Xfig[:,3]\n",
    "u_t = Ufig[:,0]\n",
    "\n",
    "r1_fig = 1 / ((M + m)*(J + m * l * l) - (m ** 2) * ( l ** 2) * ( np.cos(x1_t) ** 2))\n",
    "r2_fig = np.sin(x1_t) / (x1_t * ((M + m)*(J + m * l * l) - (m ** 2) * ( l ** 2) * ( np.cos(x1_t) ** 2)))\n",
    "r3_fig = np.cos(x1_t) / ((M + m)*(J + m * l * l) - (m ** 2) * ( l ** 2) * ( np.cos(x1_t) ** 2))\n",
    "r4_fig = np.sin(x1_t) * np.cos(x1_t) / (x1_t * ((M + m)*(J + m * l * l) - (m ** 2) * ( l ** 2) * ( np.cos(x1_t) ** 2)))\n",
    "r5_fig = x2_t ** 2\n",
    "\n",
    "dat_fig = np.array([r1_fig, r2_fig, r3_fig, r4_fig, r5_fig])\n",
    "data_fig_sca = scaler.transform(dat_fig.T)\n",
    "data_fig_sca = data_fig_sca.T"
   ]
  },
  {
   "cell_type": "code",
   "execution_count": 11,
   "id": "5411284b",
   "metadata": {},
   "outputs": [],
   "source": [
    "Data_aprox =scaler.inverse_transform( (np.matmul(U[:,:n],U[:,:n].T).dot(data_fig_sca)).T )\n",
    "Data_aprox = Data_aprox.T"
   ]
  },
  {
   "cell_type": "code",
   "execution_count": 12,
   "id": "caea98aa",
   "metadata": {},
   "outputs": [],
   "source": [
    "r1_aprox = Data_aprox[0, :]\n",
    "r2_aprox = Data_aprox[1, :]\n",
    "r3_aprox = Data_aprox[2, :]\n",
    "r4_aprox = Data_aprox[3, :]\n",
    "r5_aprox = Data_aprox[4, :]\n",
    "\n",
    "sch = U[:,:n].T.dot(data_fig_sca)"
   ]
  },
  {
   "cell_type": "code",
   "execution_count": 13,
   "id": "5f77b23d",
   "metadata": {},
   "outputs": [],
   "source": [
    "c1 = T * m * g * l * (M + m)\n",
    "c2 = - T * (m ** 2) * (l ** 2)\n",
    "c3 = - T * f1 * (M + m)\n",
    "c4 = T * f0 * m * l\n",
    "c5 = - T * (m ** 2) * g * (l ** 2)\n",
    "c6 = T * m * l * (J + m * l * l)\n",
    "c7 = T * f1 * m * l\n",
    "c8 = -T * f0 * (J + m * l * l)\n",
    "c9 = -T * m * l\n",
    "c10 = T * ( J + m * l * l)"
   ]
  },
  {
   "cell_type": "code",
   "execution_count": 14,
   "id": "eb9f775d",
   "metadata": {},
   "outputs": [],
   "source": [
    "x1_aprox = x1_t + T * x2_t\n",
    "x2_aprox = (c1 * r2_aprox + c2 * r4_aprox * r5_aprox) * x1_t + (1+ c3 * r1_aprox) * x2_t + c4 * r3_aprox * x4_t + c9 * r3_aprox * u_t\n",
    "x3_aprox = x3_t + T * x4_t\n",
    "x4_aprox = (c5 * r4_aprox + c6 * r2_aprox * r5_aprox) * x1_t + c7 * r3_aprox * x2_t + (1 + c8 * r1_aprox) * x4_t + c10 * r1_aprox * u_t"
   ]
  },
  {
   "cell_type": "code",
   "execution_count": 15,
   "id": "30bd4ba8",
   "metadata": {},
   "outputs": [
    {
     "data": {
      "image/png": "[encoded data removed]",
      "text/plain": [
       "<Figure size 640x480 with 1 Axes>"
      ]
     },
     "metadata": {},
     "output_type": "display_data"
    }
   ],
   "source": [
    "plt.plot(x2_aprox)\n",
    "plt.plot(x2_t[1:])\n",
    "plt.show()"
   ]
  },
  {
   "cell_type": "code",
   "execution_count": 16,
   "id": "af57dd35",
   "metadata": {},
   "outputs": [
    {
     "data": {
      "image/png": "[encoded data removed]",
      "text/plain": [
       "<Figure size 640x480 with 1 Axes>"
      ]
     },
     "metadata": {},
     "output_type": "display_data"
    }
   ],
   "source": [
    "plt.plot(sch[0,:])\n",
    "plt.show()"
   ]
  },
  {
   "cell_type": "code",
   "execution_count": null,
   "id": "88476b4a",
   "metadata": {},
   "outputs": [],
   "source": []
  }
 ],
 "metadata": {
  "kernelspec": {
   "display_name": "Python 3 (ipykernel)",
   "language": "python",
   "name": "python3"
  },
  "language_info": {
   "codemirror_mode": {
    "name": "ipython",
    "version": 3
   },
   "file_extension": ".py",
   "mimetype": "text/x-python",
   "name": "python",
   "nbconvert_exporter": "python",
   "pygments_lexer": "ipython3",
   "version": "3.8.0"
  }
 },
 "nbformat": 4,
 "nbformat_minor": 5
}
